{
 "metadata": {
  "language_info": {
   "codemirror_mode": {
    "name": "ipython",
    "version": 3
   },
   "file_extension": ".py",
   "mimetype": "text/x-python",
   "name": "python",
   "nbconvert_exporter": "python",
   "pygments_lexer": "ipython3",
   "version": "3.6.8"
  },
  "orig_nbformat": 2,
  "kernelspec": {
   "name": "python368jvsc74a57bd079b34c132431629d3c5274ec3b6bb03b828c385fb18b030c8223d0c222d2b2a1",
   "display_name": "Python 3.6.8 64-bit"
  },
  "metadata": {
   "interpreter": {
    "hash": "79b34c132431629d3c5274ec3b6bb03b828c385fb18b030c8223d0c222d2b2a1"
   }
  }
 },
 "nbformat": 4,
 "nbformat_minor": 2,
 "cells": [
  {
   "source": [
    "###########################################################\n",
    "### Goal: parse block of text and extract categorical data\n",
    "####      eg: \"Address 123 Lester, Suite 567\" => {'Address': \"123 Lester\", 'Suite': \"567\"}\n",
    "###########################################################"
   ],
   "cell_type": "markdown",
   "metadata": {}
  },
  {
   "cell_type": "code",
   "execution_count": 1,
   "metadata": {},
   "outputs": [],
   "source": [
    "# Sample text to parse\n",
    "text = \"Suite 08 Condominium Plot aBGH-1234 Lot 123 Leslie St. Size 45km^2, Unit 512; High elevation on walls and damp asphalt around building makes cleanup difficult during times of disturbance in the nature\""
   ]
  },
  {
   "cell_type": "code",
   "execution_count": 2,
   "metadata": {},
   "outputs": [],
   "source": [
    "import spacy\n",
    "from spacy.matcher import PhraseMatcher\n",
    "# python -m spacy download en_core_web_sm"
   ]
  },
  {
   "cell_type": "code",
   "execution_count": 3,
   "metadata": {},
   "outputs": [
    {
     "output_type": "stream",
     "name": "stdout",
     "text": [
      "Suite | 08 | Condominium | Plot | aBGH-1234 | Lot | 123 | Leslie | St. | Size | 45km^2 | , | Unit | 512 | ; | High | elevation | on | walls | and | damp | asphalt | around | building | makes | cleanup | difficult | during | times | of | disturbance | in | the | nature | "
     ]
    }
   ],
   "source": [
    "# Tokenizing text\n",
    "nlp = spacy.load('en_core_web_sm')\n",
    "doc = nlp(text)\n",
    "\n",
    "for token in doc:\n",
    "    print(token, end=' | ')"
   ]
  },
  {
   "cell_type": "code",
   "execution_count": 4,
   "metadata": {},
   "outputs": [
    {
     "output_type": "stream",
     "name": "stdout",
     "text": [
      "[(6837309499179236792, 0, 1), (6837309499179236792, 2, 4), (6837309499179236792, 3, 4), (6837309499179236792, 5, 6), (6837309499179236792, 9, 10), (6837309499179236792, 12, 13)]\n"
     ]
    }
   ],
   "source": [
    "matcher = PhraseMatcher(nlp.vocab, attr='LOWER')\n",
    "categories = ['Address', 'Suite', 'Condominium Unit', 'Unit', 'Plot', 'Lot', 'Condominium Plot', 'Size']\n",
    "\n",
    "patterns = [nlp(category) for category in categories]\n",
    "matcher.add('Categories', patterns)\n",
    "\n",
    "matches = matcher(doc)\n",
    "print(matches)"
   ]
  },
  {
   "cell_type": "code",
   "execution_count": 5,
   "metadata": {},
   "outputs": [
    {
     "output_type": "stream",
     "name": "stdout",
     "text": [
      "Categories: Suite\nCategories: Condominium Plot\nCategories: Plot\nCategories: Lot\nCategories: Size\nCategories: Unit\n"
     ]
    }
   ],
   "source": [
    "for match in matches:\n",
    "    match_id, start, end = match\n",
    "    print(f\"{nlp.vocab.strings[match_id]}: {doc[start:end]}\")"
   ]
  }
 ]
}